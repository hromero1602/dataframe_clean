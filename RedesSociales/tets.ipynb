{
 "metadata": {
  "language_info": {
   "codemirror_mode": {
    "name": "ipython",
    "version": 3
   },
   "file_extension": ".py",
   "mimetype": "text/x-python",
   "name": "python",
   "nbconvert_exporter": "python",
   "pygments_lexer": "ipython3",
   "version": "3.8.9-final"
  },
  "orig_nbformat": 2,
  "kernelspec": {
   "name": "python389jvsc74a57bd097934fd34dda3fc8d408bb7c967238ee268c1f226b4af39819ccb7590f466ee5",
   "display_name": "Python 3.8.9 64-bit"
  },
  "metadata": {
   "interpreter": {
    "hash": "97934fd34dda3fc8d408bb7c967238ee268c1f226b4af39819ccb7590f466ee5"
   }
  }
 },
 "nbformat": 4,
 "nbformat_minor": 2,
 "cells": [
  {
   "cell_type": "code",
   "execution_count": 2,
   "metadata": {},
   "outputs": [],
   "source": [
    "import pandas as pd\n",
    "import demoji \n"
   ]
  },
  {
   "cell_type": "code",
   "execution_count": 5,
   "metadata": {},
   "outputs": [],
   "source": [
    "df = pd.read_csv('ig_post.csv')"
   ]
  },
  {
   "cell_type": "code",
   "execution_count": 27,
   "metadata": {},
   "outputs": [
    {
     "output_type": "execute_result",
     "data": {
      "text/plain": [
       "   Unnamed: 0 likes                                           comments\n",
       "0           0     0  Time travel to 1960 with @preservationclassics...\n",
       "1           1     0  Original 👆or edit 👇?\\n• \\n• \\n• \\n• \\n• \\n#sup...\n",
       "2           2     1  Left or right? \\n\\nFollow @porschedemic \\n\\nVi...\n",
       "3           3     0  #MobileMike @FerrariftLauderdale @thevogels\\n@...\n",
       "4           4     1  Looking good 🤤\\n➖➖➖➖➖➖\\nFollow @claxcr7 \\nFoll...\n",
       "..        ...   ...                                                ...\n",
       "59         59    55  Ferrari SF90 Stradale • @don_huayra #ferrari #...\n",
       "60         60    37  that some 💣 definition & the perfect curves. 🧲...\n",
       "61         61    30  Detail. [2]\\n\\n„Ferrari Testarossa” ⠀ ⠀\\n⠀ ⠀\\n...\n",
       "62         62    62  Detail. [1]\\n\\n„Ferrari Testarossa” ⠀ ⠀\\n⠀ ⠀\\n...\n",
       "63         63   102  Ferrari Testarossa. ⠀ ⠀ ⠀\\n \\nAcrylic on canva...\n",
       "\n",
       "[64 rows x 3 columns]"
      ],
      "text/html": "<div>\n<style scoped>\n    .dataframe tbody tr th:only-of-type {\n        vertical-align: middle;\n    }\n\n    .dataframe tbody tr th {\n        vertical-align: top;\n    }\n\n    .dataframe thead th {\n        text-align: right;\n    }\n</style>\n<table border=\"1\" class=\"dataframe\">\n  <thead>\n    <tr style=\"text-align: right;\">\n      <th></th>\n      <th>Unnamed: 0</th>\n      <th>likes</th>\n      <th>comments</th>\n    </tr>\n  </thead>\n  <tbody>\n    <tr>\n      <th>0</th>\n      <td>0</td>\n      <td>0</td>\n      <td>Time travel to 1960 with @preservationclassics...</td>\n    </tr>\n    <tr>\n      <th>1</th>\n      <td>1</td>\n      <td>0</td>\n      <td>Original 👆or edit 👇?\\n• \\n• \\n• \\n• \\n• \\n#sup...</td>\n    </tr>\n    <tr>\n      <th>2</th>\n      <td>2</td>\n      <td>1</td>\n      <td>Left or right? \\n\\nFollow @porschedemic \\n\\nVi...</td>\n    </tr>\n    <tr>\n      <th>3</th>\n      <td>3</td>\n      <td>0</td>\n      <td>#MobileMike @FerrariftLauderdale @thevogels\\n@...</td>\n    </tr>\n    <tr>\n      <th>4</th>\n      <td>4</td>\n      <td>1</td>\n      <td>Looking good 🤤\\n➖➖➖➖➖➖\\nFollow @claxcr7 \\nFoll...</td>\n    </tr>\n    <tr>\n      <th>...</th>\n      <td>...</td>\n      <td>...</td>\n      <td>...</td>\n    </tr>\n    <tr>\n      <th>59</th>\n      <td>59</td>\n      <td>55</td>\n      <td>Ferrari SF90 Stradale • @don_huayra #ferrari #...</td>\n    </tr>\n    <tr>\n      <th>60</th>\n      <td>60</td>\n      <td>37</td>\n      <td>that some 💣 definition &amp; the perfect curves. 🧲...</td>\n    </tr>\n    <tr>\n      <th>61</th>\n      <td>61</td>\n      <td>30</td>\n      <td>Detail. [2]\\n\\n„Ferrari Testarossa” ⠀ ⠀\\n⠀ ⠀\\n...</td>\n    </tr>\n    <tr>\n      <th>62</th>\n      <td>62</td>\n      <td>62</td>\n      <td>Detail. [1]\\n\\n„Ferrari Testarossa” ⠀ ⠀\\n⠀ ⠀\\n...</td>\n    </tr>\n    <tr>\n      <th>63</th>\n      <td>63</td>\n      <td>102</td>\n      <td>Ferrari Testarossa. ⠀ ⠀ ⠀\\n \\nAcrylic on canva...</td>\n    </tr>\n  </tbody>\n</table>\n<p>64 rows × 3 columns</p>\n</div>"
     },
     "metadata": {},
     "execution_count": 27
    }
   ],
   "source": [
    "df.astype(str)"
   ]
  },
  {
   "cell_type": "code",
   "execution_count": null,
   "metadata": {},
   "outputs": [],
   "source": []
  }
 ]
}